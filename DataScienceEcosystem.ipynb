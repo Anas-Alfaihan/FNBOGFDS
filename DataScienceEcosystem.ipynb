{
 "cells": [
  {
   "cell_type": "markdown",
   "id": "7818d42d-7bfc-45f6-adda-dfd401429e41",
   "metadata": {},
   "source": [
    "# Data Science Tools and Ecosystem"
   ]
  },
  {
   "cell_type": "markdown",
   "id": "1569b250-ac6b-426a-9da7-555eb16c7669",
   "metadata": {},
   "source": [
    "## Author\n",
    "Anas Alfaihan"
   ]
  },
  {
   "cell_type": "markdown",
   "id": "6669d3e7-b74a-4dc0-9b3f-e3fd6fb64543",
   "metadata": {},
   "source": [
    "_In this notebook, Data Science Tools and Ecosystem are summarized._"
   ]
  },
  {
   "cell_type": "markdown",
   "id": "5e450d26-46b8-49bd-b8dd-9d3408fbda5e",
   "metadata": {},
   "source": [
    "**Objectives:**\n",
    "* List popular languages for Data Science\n",
    "* List populat libraries used in Data Science\n",
    "* List some open source Data Science tools\n",
    "* showing how to evaluate arithmetic expressions  "
   ]
  },
  {
   "cell_type": "markdown",
   "id": "03aec060-6331-43bb-a161-6996bab8f52c",
   "metadata": {},
   "source": [
    "Some of the popular languages that Data Scientists use are:\n",
    "1. Python\n",
    "2. R language\n",
    "3. Java"
   ]
  },
  {
   "cell_type": "markdown",
   "id": "bad8b8f2-47b4-450a-97b8-29500d0a458c",
   "metadata": {},
   "source": [
    "Some of the commonly used libraries used by Data Scientists include:\n",
    "1. numpy\n",
    "2. pandas\n",
    "3. matplotlib"
   ]
  },
  {
   "cell_type": "markdown",
   "id": "4c0832ca-fd24-44b8-a72a-7be76d5d2bc8",
   "metadata": {},
   "source": [
    "|Data Science Tools|\n",
    "|---|\n",
    "|Jupyter Nootbook|\n",
    "|RStudio|\n",
    "|Apache Zeppelin|"
   ]
  },
  {
   "cell_type": "markdown",
   "id": "771af142-c2c6-4d2d-80b4-cdea9d678bba",
   "metadata": {},
   "source": [
    "### Below are a few examples of evaluating arithmetic expressions in Python\n"
   ]
  },
  {
   "cell_type": "code",
   "execution_count": 5,
   "id": "00466152-5981-4c03-88e2-b15da713057c",
   "metadata": {},
   "outputs": [
    {
     "data": {
      "text/plain": [
       "17"
      ]
     },
     "execution_count": 5,
     "metadata": {},
     "output_type": "execute_result"
    }
   ],
   "source": [
    "# This a simple arithmetic expression to mutiply then add integers\n",
    "(3*4)+5"
   ]
  },
  {
   "cell_type": "code",
   "execution_count": 6,
   "id": "c79f3b7f-b518-45fa-8247-68e6d3b0d066",
   "metadata": {},
   "outputs": [
    {
     "name": "stdout",
     "output_type": "stream",
     "text": [
      "3.3333333333333335\n"
     ]
    }
   ],
   "source": [
    "# This will convert 200 minutes to hours by diving by 60\n",
    "minutes = 200\n",
    "hours = minutes / 60\n",
    "print(hours)"
   ]
  },
  {
   "cell_type": "code",
   "execution_count": null,
   "id": "2df553b5-7969-4d9c-a48c-1c1ddd14da2b",
   "metadata": {},
   "outputs": [],
   "source": []
  }
 ],
 "metadata": {
  "kernelspec": {
   "display_name": "Python",
   "language": "python",
   "name": "conda-env-python-py"
  },
  "language_info": {
   "codemirror_mode": {
    "name": "ipython",
    "version": 3
   },
   "file_extension": ".py",
   "mimetype": "text/x-python",
   "name": "python",
   "nbconvert_exporter": "python",
   "pygments_lexer": "ipython3",
   "version": "3.7.12"
  }
 },
 "nbformat": 4,
 "nbformat_minor": 5
}
